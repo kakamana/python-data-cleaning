{
 "cells": [
  {
   "cell_type": "code",
   "execution_count": 1,
   "id": "af3801c6-38db-4c9e-92bd-ba5389705c7d",
   "metadata": {},
   "outputs": [],
   "source": [
    "import pandas as pd\n",
    "import numpy as np"
   ]
  },
  {
   "cell_type": "markdown",
   "id": "6604cad4-92ef-4f26-9f31-296a3a6e88a1",
   "metadata": {},
   "source": [
    "## Common data problems\n",
    "### Data information and its structure"
   ]
  },
  {
   "cell_type": "code",
   "execution_count": 2,
   "id": "f09def97-9c5d-4790-b24c-dfc99e79ea99",
   "metadata": {},
   "outputs": [
    {
     "name": "stdout",
     "output_type": "stream",
     "text": [
      "<class 'pandas.core.frame.DataFrame'>\n",
      "RangeIndex: 25760 entries, 0 to 25759\n",
      "Data columns (total 11 columns):\n",
      " #   Column           Non-Null Count  Dtype  \n",
      "---  ------           --------------  -----  \n",
      " 0   duration         25760 non-null  object \n",
      " 1   station_A_id     25760 non-null  int64  \n",
      " 2   station_A_name   25760 non-null  object \n",
      " 3   station_B_id     25760 non-null  int64  \n",
      " 4   station_B_name   25760 non-null  object \n",
      " 5   bike_id          25760 non-null  int64  \n",
      " 6   user_type        25760 non-null  object \n",
      " 7   user_birth_year  25760 non-null  int64  \n",
      " 8   user_gender      25760 non-null  object \n",
      " 9   tire_sizes       25760 non-null  float64\n",
      " 10  ride_date        25760 non-null  object \n",
      "dtypes: float64(1), int64(4), object(6)\n",
      "memory usage: 2.2+ MB\n",
      "None\n",
      "count          25760\n",
      "unique             2\n",
      "top       Subscriber\n",
      "freq           23209\n",
      "Name: user_type, dtype: object\n"
     ]
    }
   ],
   "source": [
    "ride_sharing=pd.read_csv(\"ride_sharing_fixingDuplicates.csv\")\n",
    "\n",
    "# Print the information of ride_sharing\n",
    "print(ride_sharing.info())\n",
    "\n",
    "# Print summary statistics of user_type column\n",
    "print(ride_sharing['user_type'].describe())"
   ]
  },
  {
   "cell_type": "code",
   "execution_count": 3,
   "id": "83076a76-cb4c-4e3c-9e21-00c4529cec74",
   "metadata": {},
   "outputs": [
    {
     "name": "stdout",
     "output_type": "stream",
     "text": [
      "count          25760\n",
      "unique             2\n",
      "top       Subscriber\n",
      "freq           23209\n",
      "Name: user_type_cat, dtype: object\n"
     ]
    }
   ],
   "source": [
    "# Convert user_type from integer to category\n",
    "ride_sharing['user_type_cat'] = ride_sharing['user_type'].astype(\"category\")\n",
    "\n",
    "# Write an assert statement confirming the change\n",
    "assert ride_sharing['user_type_cat'].dtype == 'category'\n",
    "\n",
    "# Print new summary statistics \n",
    "print(ride_sharing['user_type_cat'].describe())"
   ]
  },
  {
   "cell_type": "markdown",
   "id": "e55fbfd0-27ae-4825-9337-38e27e5a3c92",
   "metadata": {},
   "source": [
    "### Summing strings and concatenating numbers"
   ]
  },
  {
   "cell_type": "code",
   "execution_count": 4,
   "id": "98115622-87b8-4d87-869a-a329e9f365b9",
   "metadata": {},
   "outputs": [
    {
     "name": "stdout",
     "output_type": "stream",
     "text": [
      "         duration duration_trim  duration_time\n",
      "0      12 minutes           12              12\n",
      "1      24 minutes           24              24\n",
      "2       8 minutes            8               8\n",
      "3       4 minutes            4               4\n",
      "4      11 minutes           11              11\n",
      "...           ...           ...            ...\n",
      "25755  11 minutes           11              11\n",
      "25756  10 minutes           10              10\n",
      "25757  14 minutes           14              14\n",
      "25758  14 minutes           14              14\n",
      "25759  29 minutes           29              29\n",
      "\n",
      "[25760 rows x 3 columns]\n",
      "11.389052795031056\n"
     ]
    }
   ],
   "source": [
    "# Strip duration of minutes\n",
    "ride_sharing['duration_trim'] = ride_sharing['duration'].str.strip(\"minutes\")\n",
    "\n",
    "# Convert duration to integer\n",
    "ride_sharing['duration_time'] = ride_sharing['duration_trim'].astype(\"int\")\n",
    "\n",
    "# Write an assert statement making sure of conversion\n",
    "assert ride_sharing['duration_time'].dtype == 'int'\n",
    "\n",
    "# Print formed columns and calculate average ride duration \n",
    "print(ride_sharing[['duration','duration_trim','duration_time']])\n",
    "print(ride_sharing['duration_time'].mean())"
   ]
  },
  {
   "cell_type": "markdown",
   "id": "b36f7f15-5b81-4a12-86d5-40260c8a64c2",
   "metadata": {},
   "source": [
    "### Tire size constraint"
   ]
  },
  {
   "cell_type": "code",
   "execution_count": 5,
   "id": "79eff032-b28a-4bb8-b405-750c1ab4b58a",
   "metadata": {},
   "outputs": [
    {
     "name": "stdout",
     "output_type": "stream",
     "text": [
      "<class 'pandas.core.frame.DataFrame'>\n",
      "RangeIndex: 25760 entries, 0 to 25759\n",
      "Data columns (total 14 columns):\n",
      " #   Column           Non-Null Count  Dtype   \n",
      "---  ------           --------------  -----   \n",
      " 0   duration         25760 non-null  object  \n",
      " 1   station_A_id     25760 non-null  int64   \n",
      " 2   station_A_name   25760 non-null  object  \n",
      " 3   station_B_id     25760 non-null  int64   \n",
      " 4   station_B_name   25760 non-null  object  \n",
      " 5   bike_id          25760 non-null  int64   \n",
      " 6   user_type        25760 non-null  object  \n",
      " 7   user_birth_year  25760 non-null  int64   \n",
      " 8   user_gender      25760 non-null  object  \n",
      " 9   tire_sizes       25760 non-null  float64 \n",
      " 10  ride_date        25760 non-null  object  \n",
      " 11  user_type_cat    25760 non-null  category\n",
      " 12  duration_trim    25760 non-null  object  \n",
      " 13  duration_time    25760 non-null  int32   \n",
      "dtypes: category(1), float64(1), int32(1), int64(4), object(7)\n",
      "memory usage: 2.5+ MB\n",
      "count     25760\n",
      "unique        2\n",
      "top          27\n",
      "freq      13274\n",
      "Name: tire_sizes, dtype: int64\n"
     ]
    }
   ],
   "source": [
    "ride_sharing.info()\n",
    "# Convert tire_sizes to integer\n",
    "ride_sharing['tire_sizes'] = ride_sharing['tire_sizes'].astype('int')\n",
    "\n",
    "# Set all values above 27 to 27\n",
    "ride_sharing.loc[ride_sharing['tire_sizes'] > 27, \"tire_sizes\"] = 27\n",
    "\n",
    "# Reconvert tire_sizes back to categorical\n",
    "ride_sharing['tire_sizes'] = ride_sharing['tire_sizes'].astype('category')\n",
    "\n",
    "# Print tire size description\n",
    "print(ride_sharing['tire_sizes'].describe())"
   ]
  },
  {
   "cell_type": "code",
   "execution_count": 6,
   "id": "6d03d2ec-519e-4787-b904-6fabada6f00e",
   "metadata": {},
   "outputs": [
    {
     "name": "stdout",
     "output_type": "stream",
     "text": [
      "2022-01-12\n"
     ]
    },
    {
     "name": "stderr",
     "output_type": "stream",
     "text": [
      "C:\\ProgramData\\Anaconda3\\lib\\site-packages\\numpy\\core\\_methods.py:39: FutureWarning: Comparison of Timestamp with datetime.date is deprecated in order to match the standard library behavior.  In a future version these will be considered non-comparable.Use 'ts == pd.Timestamp(date)' or 'ts.date() == date' instead.\n",
      "  return umr_maximum(a, axis, None, out, keepdims, initial, where)\n"
     ]
    }
   ],
   "source": [
    "import datetime as dt\n",
    "# Convert ride_date to datetime\n",
    "ride_sharing['ride_dt'] = pd.to_datetime(ride_sharing['ride_date'])\n",
    "\n",
    "# Save today's date\n",
    "today = dt.date.today()\n",
    "#print(today)\n",
    "\n",
    "# Set all in the future to today's date\n",
    "ride_sharing.loc[ride_sharing['ride_dt'].dt.date > today, 'ride_dt'] = today\n",
    "\n",
    "# Print maximum of ride_dt column\n",
    "print(ride_sharing['ride_dt'].max())"
   ]
  },
  {
   "cell_type": "markdown",
   "id": "feb7759b-969c-4bd8-8400-075fa6f422c4",
   "metadata": {},
   "source": [
    "### Finding duplicates"
   ]
  },
  {
   "cell_type": "code",
   "execution_count": 7,
   "id": "70256cb4-822c-4a4f-9c77-0af9496c0d33",
   "metadata": {},
   "outputs": [
    {
     "name": "stdout",
     "output_type": "stream",
     "text": [
      "   ride_id  duration  station_A_id  \\\n",
      "0        0        11            16   \n",
      "1        1         8             3   \n",
      "2        2        11            15   \n",
      "3        3         7            21   \n",
      "4        4        11            81   \n",
      "\n",
      "                                      station_A_name  station_B_id  \\\n",
      "0                            Steuart St at Market St            93   \n",
      "1       Powell St BART Station (Market St at 4th St)            93   \n",
      "2  San Francisco Ferry Building (Harry Bridges Pl...            67   \n",
      "3   Montgomery St BART Station (Market St at 2nd St)            50   \n",
      "4                                 Berry St at 4th St            21   \n",
      "\n",
      "                                      station_B_name  bike_id   user_type  \\\n",
      "0                       4th St at Mission Bay Blvd S     5504  Subscriber   \n",
      "1                       4th St at Mission Bay Blvd S     2915  Subscriber   \n",
      "2  San Francisco Caltrain Station 2  (Townsend St...     5340    Customer   \n",
      "3                              2nd St at Townsend St      746  Subscriber   \n",
      "4   Montgomery St BART Station (Market St at 2nd St)     5477  Subscriber   \n",
      "\n",
      "   user_birth_year user_gender  tire_sizes   ride_date  \n",
      "0             1988        Male          27  2018-03-04  \n",
      "1             1988        Male          27  2017-03-27  \n",
      "2             1988        Male          26  2019-06-30  \n",
      "3             1969        Male          27  2018-11-16  \n",
      "4             1986        Male          26  2017-11-01  \n",
      "    ride_id  duration  user_birth_year\n",
      "22       33        10             1979\n",
      "39       33         2             1979\n",
      "53       55         9             1985\n",
      "65       55         9             1985\n",
      "74       71        11             1997\n",
      "75       71        11             1997\n",
      "76       89         9             1986\n",
      "77       89         9             2060\n"
     ]
    }
   ],
   "source": [
    "ride_sharing_dupl=pd.read_csv(\"ride_sharing_findingDuplicates.csv\")\n",
    "print(ride_sharing_dupl.head())\n",
    "# Find duplicates\n",
    "duplicates = ride_sharing_dupl.duplicated(subset='ride_id', keep=False)\n",
    "\n",
    "# Sort your duplicated rides\n",
    "duplicated_rides = ride_sharing_dupl[duplicates].sort_values('ride_id')\n",
    "\n",
    "# Print relevant columns of duplicated_rides\n",
    "print(duplicated_rides[['ride_id','duration','user_birth_year']])"
   ]
  },
  {
   "cell_type": "markdown",
   "id": "40640d25-c371-4dff-927a-7d97d55b6876",
   "metadata": {},
   "source": [
    "### Treating duplicates"
   ]
  },
  {
   "cell_type": "code",
   "execution_count": 8,
   "id": "b0d8071e-27e2-4568-afd7-c3d2b901bed2",
   "metadata": {},
   "outputs": [],
   "source": [
    "# Drop complete duplicates from ride_sharing\n",
    "ride_dup = ride_sharing_dupl.drop_duplicates()\n",
    "#print(ride_dup)\n",
    "\n",
    "# Create statistics dictionary for aggregation function\n",
    "statistics = {'user_birth_year': 'min', 'duration': 'mean'}\n",
    "\n",
    "# Group by ride_id and compute new statistics\n",
    "ride_unique = ride_dup.groupby('ride_id').agg(statistics).reset_index()\n",
    "\n",
    "# Find duplicated values again\n",
    "duplicates = ride_unique.duplicated(subset = 'ride_id', keep = False)\n",
    "duplicated_rides = ride_unique[duplicates == True]\n",
    "#print(duplicated_rides)\n",
    "\n",
    "# Assert duplicates are processed\n",
    "assert duplicated_rides.shape[0] == 0"
   ]
  },
  {
   "cell_type": "markdown",
   "id": "f13bf395-1fa2-41b0-98ce-892ce91290cd",
   "metadata": {},
   "source": [
    "## Text and categorical data problems\n",
    "### Finding consistency"
   ]
  },
  {
   "cell_type": "code",
   "execution_count": 9,
   "id": "011b8305-97dd-4e4d-af52-ce310af388cf",
   "metadata": {},
   "outputs": [
    {
     "name": "stdout",
     "output_type": "stream",
     "text": [
      "Cleanliness:  ['Clean' 'Average' 'Somewhat clean' 'Somewhat dirty' 'Dirty'] \n",
      "\n",
      "Safety:  ['Neutral' 'Very safe' 'Somewhat safe' 'Very unsafe' 'Somewhat unsafe'] \n",
      "\n",
      "Satisfaction:  ['Very satisfied' 'Neutral' 'Somewhat satsified' 'Somewhat unsatisfied'\n",
      " 'Very unsatisfied'] \n",
      "\n"
     ]
    }
   ],
   "source": [
    "airlines=pd.read_csv(\"airlines_final.csv\")\n",
    "# Print categories DataFrame\n",
    "#print(categories)\n",
    "\n",
    "# Print unique values of survey columns in airlines\n",
    "print('Cleanliness: ', airlines['cleanliness'].unique(), \"\\n\")\n",
    "print('Safety: ', airlines['safety'].unique(), \"\\n\")\n",
    "print('Satisfaction: ', airlines['satisfaction'].unique(), \"\\n\")"
   ]
  },
  {
   "cell_type": "code",
   "execution_count": 10,
   "id": "5ff44a2f-146e-469b-b491-5cf644616160",
   "metadata": {},
   "outputs": [
    {
     "name": "stdout",
     "output_type": "stream",
     "text": [
      "Empty DataFrame\n",
      "Columns: [Unnamed: 0, id, day, airline, destination, dest_region, dest_size, boarding_area, dept_time, wait_min, cleanliness, safety, satisfaction]\n",
      "Index: []\n",
      "      Unnamed: 0    id        day        airline        destination  \\\n",
      "0              0  1351    Tuesday    UNITED INTL             KANSAI   \n",
      "1              1   373     Friday         ALASKA  SAN JOSE DEL CABO   \n",
      "2              2  2820   Thursday          DELTA        LOS ANGELES   \n",
      "3              3  1157    Tuesday      SOUTHWEST        LOS ANGELES   \n",
      "4              4  2992  Wednesday       AMERICAN              MIAMI   \n",
      "...          ...   ...        ...            ...                ...   \n",
      "2472        2804  1475    Tuesday         ALASKA       NEW YORK-JFK   \n",
      "2473        2805  2222   Thursday      SOUTHWEST            PHOENIX   \n",
      "2474        2806  2684     Friday         UNITED            ORLANDO   \n",
      "2475        2807  2549    Tuesday        JETBLUE         LONG BEACH   \n",
      "2476        2808  2162   Saturday  CHINA EASTERN            QINGDAO   \n",
      "\n",
      "        dest_region dest_size boarding_area   dept_time  wait_min  \\\n",
      "0              Asia       Hub  Gates 91-102  2018-12-31     115.0   \n",
      "1     Canada/Mexico     Small   Gates 50-59  2018-12-31     135.0   \n",
      "2           West US       Hub   Gates 40-48  2018-12-31      70.0   \n",
      "3           West US       Hub   Gates 20-39  2018-12-31     190.0   \n",
      "4           East US       Hub   Gates 50-59  2018-12-31     559.0   \n",
      "...             ...       ...           ...         ...       ...   \n",
      "2472        East US       Hub   Gates 50-59  2018-12-31     280.0   \n",
      "2473        West US       Hub   Gates 20-39  2018-12-31     165.0   \n",
      "2474        East US       Hub   Gates 70-90  2018-12-31      92.0   \n",
      "2475        West US     Small    Gates 1-12  2018-12-31      95.0   \n",
      "2476           Asia     Large    Gates 1-12  2018-12-31     220.0   \n",
      "\n",
      "         cleanliness         safety        satisfaction  \n",
      "0              Clean        Neutral      Very satisfied  \n",
      "1              Clean      Very safe      Very satisfied  \n",
      "2            Average  Somewhat safe             Neutral  \n",
      "3              Clean      Very safe  Somewhat satsified  \n",
      "4     Somewhat clean      Very safe  Somewhat satsified  \n",
      "...              ...            ...                 ...  \n",
      "2472  Somewhat clean        Neutral  Somewhat satsified  \n",
      "2473           Clean      Very safe      Very satisfied  \n",
      "2474           Clean      Very safe      Very satisfied  \n",
      "2475           Clean  Somewhat safe      Very satisfied  \n",
      "2476           Clean      Very safe  Somewhat satsified  \n",
      "\n",
      "[2477 rows x 13 columns]\n"
     ]
    }
   ],
   "source": [
    "categories=pd.read_csv(\"categories.csv\")\n",
    "# Find the cleanliness category in airlines not in categories\n",
    "cat_clean = set(airlines['cleanliness']).difference(categories['cleanliness'])\n",
    "\n",
    "# Find rows with that category\n",
    "cat_clean_rows = airlines['cleanliness'].isin(cat_clean)\n",
    "\n",
    "# Print rows with inconsistent category\n",
    "print(airlines[cat_clean_rows])\n",
    "\n",
    "# Print rows with consistent categories only\n",
    "print(airlines[~cat_clean_rows])"
   ]
  },
  {
   "cell_type": "markdown",
   "id": "2c638f73-6791-4e9a-b1c5-e6843c22fd75",
   "metadata": {},
   "source": [
    "### Inconsistent categories"
   ]
  },
  {
   "cell_type": "code",
   "execution_count": 11,
   "id": "20e2a7b3-0976-4e0b-a6f6-b82113e2d04c",
   "metadata": {},
   "outputs": [
    {
     "name": "stdout",
     "output_type": "stream",
     "text": [
      "['Asia' 'Canada/Mexico' 'West US' 'East US' 'Midwest US' 'EAST US'\n",
      " 'Middle East' 'Europe' 'eur' 'Central/South America'\n",
      " 'Australia/New Zealand' 'middle east']\n",
      "['Hub' 'Small' '    Hub' 'Medium' 'Large' 'Hub     ' '    Small'\n",
      " 'Medium     ' '    Medium' 'Small     ' '    Large' 'Large     ']\n"
     ]
    }
   ],
   "source": [
    "# Print unique values of both columns\n",
    "print(airlines['dest_region'].unique())\n",
    "print(airlines['dest_size'].unique())"
   ]
  },
  {
   "cell_type": "code",
   "execution_count": 12,
   "id": "bdd6f422-f6d9-4b5d-bdd5-c603cb8fbc2f",
   "metadata": {},
   "outputs": [],
   "source": [
    "# Lower dest_region column and then replace \"eur\" with \"europe\"\n",
    "airlines['dest_region'] = airlines['dest_region'].str.lower()\n",
    "airlines['dest_region'] = airlines['dest_region'].replace({'eur':'europe'})"
   ]
  },
  {
   "cell_type": "code",
   "execution_count": 13,
   "id": "b4b27400-3c9f-4d94-80e4-cbf99df870b1",
   "metadata": {},
   "outputs": [
    {
     "name": "stdout",
     "output_type": "stream",
     "text": [
      "['asia' 'canada/mexico' 'west us' 'east us' 'midwest us' 'middle east'\n",
      " 'europe' 'central/south america' 'australia/new zealand']\n",
      "['Hub' 'Small' 'Medium' 'Large']\n"
     ]
    }
   ],
   "source": [
    "# Remove white spaces from `dest_size`\n",
    "airlines['dest_size'] = airlines['dest_size'].str.strip()\n",
    "\n",
    "# Verify changes have been effected\n",
    "print(airlines['dest_region'].unique())\n",
    "print(airlines['dest_size'].unique())"
   ]
  },
  {
   "cell_type": "markdown",
   "id": "090f0f54-c78c-4c4c-bf51-263974a0894a",
   "metadata": {},
   "source": [
    "### Remapping categories"
   ]
  },
  {
   "cell_type": "code",
   "execution_count": 14,
   "id": "6d7f7086-7e1c-4abf-80bf-dfbe2a1e19ae",
   "metadata": {},
   "outputs": [
    {
     "name": "stdout",
     "output_type": "stream",
     "text": [
      "['weekday' 'weekend']\n",
      "['medium', 'long', 'short']\n",
      "Categories (3, object): ['short' < 'medium' < 'long']\n"
     ]
    }
   ],
   "source": [
    "# Create ranges for categories\n",
    "label_ranges = [0, 60, 180, np.inf]\n",
    "label_names = ['short', 'medium', 'long']\n",
    "\n",
    "# Create wait_type column\n",
    "airlines['wait_type'] = pd.cut(airlines['wait_min'], bins = label_ranges, \n",
    "                                labels = label_names)\n",
    "\n",
    "# Create mappings and replace\n",
    "mappings = {'Monday':'weekday', 'Tuesday':'weekday', 'Wednesday': 'weekday', \n",
    "            'Thursday': 'weekday', 'Friday': 'weekday', \n",
    "            'Saturday': 'weekend', 'Sunday': 'weekend'}\n",
    "\n",
    "airlines['day_week'] = airlines['day'].replace(mappings)\n",
    "print(airlines['day_week'].unique())\n",
    "print(airlines['wait_type'].unique())"
   ]
  },
  {
   "cell_type": "markdown",
   "id": "596f167b-bd00-4fc3-ac92-8a2d01c2f230",
   "metadata": {},
   "source": [
    "### Removing titles and taking names"
   ]
  },
  {
   "cell_type": "code",
   "execution_count": 15,
   "id": "ddd26991-6626-42a8-9e31-8ef1858c4809",
   "metadata": {},
   "outputs": [
    {
     "name": "stdout",
     "output_type": "stream",
     "text": [
      "   Unnamed: 0    id                full_name        day      airline  \\\n",
      "0           0  1351           Melodie Stuart    Tuesday  UNITED INTL   \n",
      "1           1   373          Dominic Shannon     Friday       ALASKA   \n",
      "2           2  2820        Quintessa Tillman   Thursday        DELTA   \n",
      "3           3  1157  Dr. Christine Nicholson    Tuesday    SOUTHWEST   \n",
      "4           4  2992          Regina Clements  Wednesday     AMERICAN   \n",
      "\n",
      "         destination    dest_region dest_size boarding_area   dept_time  \\\n",
      "0             KANSAI           Asia       Hub  Gates 91-102  2018-12-31   \n",
      "1  SAN JOSE DEL CABO  Canada/Mexico     Small   Gates 50-59  2018-12-31   \n",
      "2        LOS ANGELES        West US       Hub   Gates 40-48  2018-12-31   \n",
      "3        LOS ANGELES        West US       Hub   Gates 20-39  2018-12-31   \n",
      "4              MIAMI        East US       Hub   Gates 50-59  2018-12-31   \n",
      "\n",
      "   wait_min     cleanliness         safety        satisfaction  \n",
      "0     115.0           Clean        Neutral      Very satisfied  \n",
      "1     135.0           Clean      Very safe      Very satisfied  \n",
      "2      70.0         Average  Somewhat safe             Neutral  \n",
      "3     190.0           Clean      Very safe  Somewhat satsified  \n",
      "4     559.0  Somewhat clean      Very safe  Somewhat satsified  \n",
      "0               Melodie Stuart\n",
      "1              Dominic Shannon\n",
      "2            Quintessa Tillman\n",
      "3      Dr. Christine Nicholson\n",
      "4              Regina Clements\n",
      "                ...           \n",
      "195           Ms. Vanna Rivera\n",
      "196            Miss Venus Lowe\n",
      "197            Amethyst Nieves\n",
      "198        Miss Vivian Foreman\n",
      "199         Miss Wendy Griffin\n",
      "Name: full_name, Length: 200, dtype: object\n"
     ]
    },
    {
     "name": "stderr",
     "output_type": "stream",
     "text": [
      "C:\\Users\\dghr201\\AppData\\Local\\Temp/ipykernel_29804/2139993405.py:5: FutureWarning: The default value of regex will change from True to False in a future version.\n",
      "  arilinesWithNames['full_name'] = arilinesWithNames['full_name'].str.replace(\"Dr.\",\"\")\n",
      "C:\\Users\\dghr201\\AppData\\Local\\Temp/ipykernel_29804/2139993405.py:8: FutureWarning: The default value of regex will change from True to False in a future version.\n",
      "  arilinesWithNames['full_name'] = arilinesWithNames['full_name'].str.replace(\"Mr.\",\"\")\n",
      "C:\\Users\\dghr201\\AppData\\Local\\Temp/ipykernel_29804/2139993405.py:13: FutureWarning: The default value of regex will change from True to False in a future version.\n",
      "  arilinesWithNames['full_name'] = arilinesWithNames['full_name'].str.replace(\"Ms.\",\"\")\n"
     ]
    }
   ],
   "source": [
    "arilinesWithNames=pd.read_csv(\"airlines_WithNames.csv\")\n",
    "print(arilinesWithNames.head())\n",
    "print(arilinesWithNames['full_name'])\n",
    "# Replace \"Dr.\" with empty string \"\"\n",
    "arilinesWithNames['full_name'] = arilinesWithNames['full_name'].str.replace(\"Dr.\",\"\")\n",
    "\n",
    "# Replace \"Mr.\" with empty string \"\"\n",
    "arilinesWithNames['full_name'] = arilinesWithNames['full_name'].str.replace(\"Mr.\",\"\")\n",
    "\n",
    "# Replace \"Miss\" with empty string \"\"\n",
    "arilinesWithNames['full_name'] = arilinesWithNames['full_name'].str.replace(\"Miss\",\"\")\n",
    "# Replace \"Ms.\" with empty string \"\"\n",
    "arilinesWithNames['full_name'] = arilinesWithNames['full_name'].str.replace(\"Ms.\",\"\")\n",
    "\n",
    "# Assert that full_name has no honorifics\n",
    "assert arilinesWithNames['full_name'].str.contains('Ms.|Mr.|Miss|Dr.').any() == False"
   ]
  },
  {
   "cell_type": "markdown",
   "id": "4b177599-064c-45f0-9547-0ed25ada909c",
   "metadata": {},
   "source": [
    "### keeping it descriptive"
   ]
  },
  {
   "cell_type": "code",
   "execution_count": 16,
   "id": "b09f8f6b-5d8f-4136-bdd6-b3675eafe92d",
   "metadata": {},
   "outputs": [
    {
     "name": "stdout",
     "output_type": "stream",
     "text": [
      "17    The airport personnell forgot to alert us of d...\n",
      "18    The food in the airport was really really expe...\n",
      "19    One of the other travelers was really loud and...\n",
      "20    I don't remember answering the survey with the...\n",
      "21    The airport personnel kept ignoring my request...\n",
      "22    The chair I sat in was extremely uncomfortable...\n",
      "23    I wish you were more like other airports, the ...\n",
      "24    I was really unsatisfied with the wait times b...\n",
      "25    The flight was okay, but I didn't really like ...\n",
      "26    We were really slowed down by security measure...\n",
      "27    There was a spill on the aisle next to the bat...\n",
      "28    I felt very unsatisfied by how long the flight...\n",
      "Name: survey_response, dtype: object\n"
     ]
    }
   ],
   "source": [
    "airlinesWithSurvey=pd.read_csv(\"airlines_WithSurvey.csv\")\n",
    "# Store length of each row in survey_response column\n",
    "resp_length = airlinesWithSurvey['survey_response'].str.len()\n",
    "\n",
    "# Find rows in airlines where resp_length > 40\n",
    "airlines_survey = airlinesWithSurvey[resp_length > 40]\n",
    "\n",
    "# Assert minimum survey_response length is > 40\n",
    "assert airlines_survey['survey_response'].str.len().min() > 40\n",
    "\n",
    "# Print new survey_response column\n",
    "print(airlines_survey['survey_response'])"
   ]
  },
  {
   "cell_type": "markdown",
   "id": "6d89a1cc-925b-42de-8ff1-2d98e0ac5e34",
   "metadata": {},
   "source": [
    "## Advanced data problems"
   ]
  },
  {
   "cell_type": "markdown",
   "id": "30b5d110-7635-4002-b75c-78bfca6e5201",
   "metadata": {},
   "source": [
    "### Uniform currencies"
   ]
  },
  {
   "cell_type": "code",
   "execution_count": 17,
   "id": "49aabe41-9dfe-4d35-8a3f-7eb3db1dae06",
   "metadata": {},
   "outputs": [
    {
     "name": "stdout",
     "output_type": "stream",
     "text": [
      "   Unnamed: 0   cust_id  acct_amount acct_cur  inv_amount account_opened  \\\n",
      "0           0  8C35540A     44244.71   dollar    35500.50       03-05-18   \n",
      "1           1  D5536652     86506.85   dollar    81921.86       21-01-18   \n",
      "2           2  A631984D     77799.33   dollar    46412.27       26-01-18   \n",
      "3           3  93F2F951     93875.24     euro    76563.35       21-08-17   \n",
      "4           4  DE0A0882     99998.35     euro    18669.01       05-06-17   \n",
      "\n",
      "  last_transaction  \n",
      "0         30-09-19  \n",
      "1         14-01-19  \n",
      "2         06-10-19  \n",
      "3         10-07-19  \n",
      "4         15-01-19  \n",
      "   Unnamed: 0   cust_id  acct_amount acct_cur  inv_amount account_opened  \\\n",
      "0           0  8C35540A    44244.710   dollar    35500.50       03-05-18   \n",
      "1           1  D5536652    86506.850   dollar    81921.86       21-01-18   \n",
      "2           2  A631984D    77799.330   dollar    46412.27       26-01-18   \n",
      "3           3  93F2F951   103262.764   dollar    76563.35       21-08-17   \n",
      "4           4  DE0A0882   109998.185   dollar    18669.01       05-06-17   \n",
      "\n",
      "  last_transaction  \n",
      "0         30-09-19  \n",
      "1         14-01-19  \n",
      "2         06-10-19  \n",
      "3         10-07-19  \n",
      "4         15-01-19  \n"
     ]
    }
   ],
   "source": [
    "bankingWithCurr=pd.read_csv(\"banking_WithCurrency.csv\")\n",
    "print(bankingWithCurr.head())\n",
    "# Find values of acct_cur that are equal to 'euro'\n",
    "acct_eu = bankingWithCurr['acct_cur'] == 'euro'\n",
    "\n",
    "# Convert acct_amount where it is in euro to dollars\n",
    "bankingWithCurr.loc[acct_eu, 'acct_amount'] = bankingWithCurr.loc[acct_eu, 'acct_amount'] * 1.1\n",
    "\n",
    "# Unify acct_cur column by changing 'euro' values to 'dollar'\n",
    "bankingWithCurr.loc[acct_eu, 'acct_cur'] = 'dollar'\n",
    "\n",
    "# Assert that only dollar currency remains\n",
    "assert bankingWithCurr['acct_cur'].unique() == 'dollar'\n",
    "print(bankingWithCurr.head())"
   ]
  },
  {
   "cell_type": "markdown",
   "id": "62570a5f-5612-4640-bcd8-28e7b3a7103a",
   "metadata": {},
   "source": [
    "### Uniform dates"
   ]
  },
  {
   "cell_type": "code",
   "execution_count": 18,
   "id": "378a55ae-e5d3-44df-8cfa-a1d4eef156c6",
   "metadata": {},
   "outputs": [
    {
     "name": "stdout",
     "output_type": "stream",
     "text": [
      "0    03-05-18\n",
      "1    21-01-18\n",
      "2    26-01-18\n",
      "3    21-08-17\n",
      "4    05-06-17\n",
      "Name: account_opened, dtype: object\n",
      "0     2018\n",
      "1     2018\n",
      "2     2018\n",
      "3     2017\n",
      "4     2017\n",
      "      ... \n",
      "92    2017\n",
      "93    2018\n",
      "94    2018\n",
      "95    2017\n",
      "96    2017\n",
      "Name: acct_year, Length: 97, dtype: object\n"
     ]
    }
   ],
   "source": [
    "# Print the header of account_opend\n",
    "print(bankingWithCurr['account_opened'].head())\n",
    "\n",
    "# Convert account_opened to datetime\n",
    "bankingWithCurr['account_opened'] = pd.to_datetime(bankingWithCurr['account_opened'],\n",
    "                                           # Infer datetime format\n",
    "                                           infer_datetime_format = True,\n",
    "                                           # Return missing value for error\n",
    "                                           errors = 'coerce') \n",
    "\n",
    "# Get year of account opened\n",
    "bankingWithCurr['acct_year'] = bankingWithCurr['account_opened'].dt.strftime('%Y')\n",
    "\n",
    "# Print acct_year\n",
    "print(bankingWithCurr['acct_year'])"
   ]
  },
  {
   "cell_type": "markdown",
   "id": "49b79b03-6d34-4066-ada3-6508026f6e3a",
   "metadata": {},
   "source": [
    "### Verify data integrity"
   ]
  },
  {
   "cell_type": "code",
   "execution_count": 19,
   "id": "40535679-9f04-4e1f-a979-2139ab84ff1f",
   "metadata": {},
   "outputs": [
    {
     "name": "stdout",
     "output_type": "stream",
     "text": [
      "   Unnamed: 0   cust_id  birth_date  Age  acct_amount  inv_amount   fund_A  \\\n",
      "0           0  870A9281  1962-06-09   58     63523.31       51295  30105.0   \n",
      "1           1  166B05B0  1962-12-16   58     38175.46       15050   4995.0   \n",
      "2           2  BFC13E88  1990-09-12   34     59863.77       24567  10323.0   \n",
      "3           3  F2158F66  1985-11-03   35     84132.10       23712   3908.0   \n",
      "4           4  7A73F334  1990-05-17   30    120512.00       93230  12158.4   \n",
      "\n",
      "    fund_B   fund_C   fund_D account_opened last_transaction  \n",
      "0   4138.0   1420.0  15632.0       02-09-18         22-02-19  \n",
      "1    938.0   6696.0   2421.0       28-02-19         31-10-18  \n",
      "2   4590.0   8469.0   1185.0       25-04-18         02-04-18  \n",
      "3    492.0   6482.0  12830.0       07-11-17         08-11-18  \n",
      "4  51281.0  13434.0  18383.0       14-05-18         19-07-18  \n",
      "Number of inconsistent investments:  8\n"
     ]
    }
   ],
   "source": [
    "banking=pd.read_csv(\"banking_dirty.csv\")\n",
    "print(banking.head())\n",
    "# Store fund columns to sum against\n",
    "fund_columns = ['fund_A', 'fund_B', 'fund_C', 'fund_D']\n",
    "\n",
    "# Find rows where fund_columns row sum == inv_amount\n",
    "inv_equ = banking[fund_columns].sum(axis=1) == banking[\"inv_amount\"]\n",
    "\n",
    "# Store consistent and inconsistent data\n",
    "consistent_inv = banking[inv_equ]\n",
    "inconsistent_inv = banking[~inv_equ]\n",
    "\n",
    "# Store consistent and inconsistent data\n",
    "print(\"Number of inconsistent investments: \", inconsistent_inv.shape[0])"
   ]
  },
  {
   "cell_type": "code",
   "execution_count": 20,
   "id": "f69f57cc-92d8-4ed8-8068-a6c56ac2ab16",
   "metadata": {},
   "outputs": [
    {
     "name": "stdout",
     "output_type": "stream",
     "text": [
      "<class 'pandas.core.frame.DataFrame'>\n",
      "RangeIndex: 100 entries, 0 to 99\n",
      "Data columns (total 12 columns):\n",
      " #   Column            Non-Null Count  Dtype  \n",
      "---  ------            --------------  -----  \n",
      " 0   Unnamed: 0        100 non-null    int64  \n",
      " 1   cust_id           100 non-null    object \n",
      " 2   birth_date        100 non-null    object \n",
      " 3   Age               100 non-null    int64  \n",
      " 4   acct_amount       100 non-null    float64\n",
      " 5   inv_amount        100 non-null    int64  \n",
      " 6   fund_A            100 non-null    float64\n",
      " 7   fund_B            100 non-null    float64\n",
      " 8   fund_C            100 non-null    float64\n",
      " 9   fund_D            100 non-null    float64\n",
      " 10  account_opened    100 non-null    object \n",
      " 11  last_transaction  100 non-null    object \n",
      "dtypes: float64(5), int64(3), object(4)\n",
      "memory usage: 9.5+ KB\n",
      "None\n",
      "Number of inconsistent ages:  100\n"
     ]
    }
   ],
   "source": [
    "print(banking.info())\n",
    "banking[\"birth_date\"]=pd.to_datetime(banking[\"birth_date\"])\n",
    "# Store today's date and find ages\n",
    "today = dt.date.today()\n",
    "ages_manual = today.year - banking[\"birth_date\"].dt.year\n",
    "\n",
    "# Find rows where age column == ages_manual\n",
    "age_equ = ages_manual== banking[\"Age\"]\n",
    "\n",
    "# Store consistent and inconsistent data\n",
    "consistent_ages = banking[age_equ]\n",
    "inconsistent_ages = banking[~age_equ]\n",
    "\n",
    "# Store consistent and inconsistent data\n",
    "print(\"Number of inconsistent ages: \", inconsistent_ages.shape[0])"
   ]
  },
  {
   "cell_type": "markdown",
   "id": "1e4fe3b6-7b03-412d-bef5-1077420eda4c",
   "metadata": {},
   "source": [
    "### Missing investors"
   ]
  },
  {
   "cell_type": "code",
   "execution_count": 21,
   "id": "196491de-8ed8-4cd5-87e9-d715e86166d5",
   "metadata": {},
   "outputs": [
    {
     "name": "stdout",
     "output_type": "stream",
     "text": [
      "Requirement already satisfied: missingno in c:\\programdata\\anaconda3\\lib\\site-packages (0.5.0)Note: you may need to restart the kernel to use updated packages.\n",
      "Requirement already satisfied: scipy in c:\\programdata\\anaconda3\\lib\\site-packages (from missingno) (1.7.1)\n",
      "Requirement already satisfied: matplotlib in c:\\programdata\\anaconda3\\lib\\site-packages (from missingno) (3.4.3)\n",
      "\n",
      "Requirement already satisfied: numpy in c:\\programdata\\anaconda3\\lib\\site-packages (from missingno) (1.20.3)\n",
      "Requirement already satisfied: seaborn in c:\\programdata\\anaconda3\\lib\\site-packages (from missingno) (0.11.2)\n",
      "Requirement already satisfied: python-dateutil>=2.7 in c:\\programdata\\anaconda3\\lib\\site-packages (from matplotlib->missingno) (2.8.2)\n",
      "Requirement already satisfied: pyparsing>=2.2.1 in c:\\programdata\\anaconda3\\lib\\site-packages (from matplotlib->missingno) (3.0.4)\n",
      "Requirement already satisfied: cycler>=0.10 in c:\\programdata\\anaconda3\\lib\\site-packages (from matplotlib->missingno) (0.10.0)\n",
      "Requirement already satisfied: kiwisolver>=1.0.1 in c:\\programdata\\anaconda3\\lib\\site-packages (from matplotlib->missingno) (1.3.1)\n",
      "Requirement already satisfied: pillow>=6.2.0 in c:\\programdata\\anaconda3\\lib\\site-packages (from matplotlib->missingno) (8.4.0)\n",
      "Requirement already satisfied: six in c:\\programdata\\anaconda3\\lib\\site-packages (from cycler>=0.10->matplotlib->missingno) (1.16.0)\n",
      "Requirement already satisfied: pandas>=0.23 in c:\\programdata\\anaconda3\\lib\\site-packages (from seaborn->missingno) (1.3.4)\n",
      "Requirement already satisfied: pytz>=2017.3 in c:\\programdata\\anaconda3\\lib\\site-packages (from pandas>=0.23->seaborn->missingno) (2021.3)\n"
     ]
    }
   ],
   "source": [
    "pip install missingno"
   ]
  },
  {
   "cell_type": "code",
   "execution_count": 22,
   "id": "585e3b10-4d09-4c3a-b902-0e312e273ea7",
   "metadata": {},
   "outputs": [
    {
     "name": "stdout",
     "output_type": "stream",
     "text": [
      "   Unnamed: 0   cust_id  age  acct_amount  inv_amount account_opened  \\\n",
      "0           0  8C35540A   54     44244.71    35500.50       03-05-18   \n",
      "1           1  D5536652   36     86506.85    81921.86       21-01-18   \n",
      "2           2  A631984D   49     77799.33    46412.27       26-01-18   \n",
      "3           3  93F2F951   56     93875.24    76563.35       21-08-17   \n",
      "4           4  DE0A0882   21     99998.35         NaN       05-06-17   \n",
      "\n",
      "  last_transaction  \n",
      "0         30-09-19  \n",
      "1         14-01-19  \n",
      "2         06-10-19  \n",
      "3         10-07-19  \n",
      "4         15-01-19  \n",
      "<class 'pandas.core.frame.DataFrame'>\n",
      "RangeIndex: 97 entries, 0 to 96\n",
      "Data columns (total 7 columns):\n",
      " #   Column            Non-Null Count  Dtype  \n",
      "---  ------            --------------  -----  \n",
      " 0   Unnamed: 0        97 non-null     int64  \n",
      " 1   cust_id           97 non-null     object \n",
      " 2   age               97 non-null     int64  \n",
      " 3   acct_amount       97 non-null     float64\n",
      " 4   inv_amount        84 non-null     float64\n",
      " 5   account_opened    97 non-null     object \n",
      " 6   last_transaction  97 non-null     object \n",
      "dtypes: float64(2), int64(2), object(3)\n",
      "memory usage: 5.4+ KB\n",
      "None\n",
      "Unnamed: 0           0\n",
      "cust_id              0\n",
      "age                  0\n",
      "acct_amount          0\n",
      "inv_amount          13\n",
      "account_opened       0\n",
      "last_transaction     0\n",
      "dtype: int64\n",
      "Unnamed: 0           0\n",
      "cust_id              0\n",
      "age                  0\n",
      "acct_amount          0\n",
      "inv_amount          13\n",
      "account_opened       0\n",
      "last_transaction     0\n",
      "dtype: int64\n"
     ]
    },
    {
     "data": {
      "image/png": "[encoded data removed]",
      "text/plain": [
       "<Figure size 1800x720 with 2 Axes>"
      ]
     },
     "metadata": {
      "needs_background": "light"
     },
     "output_type": "display_data"
    }
   ],
   "source": [
    "import matplotlib.pyplot as plt\n",
    "import missingno as msno\n",
    "bankingMissing=pd.read_csv(\"banking_Missing.csv\")\n",
    "print(bankingMissing.head())\n",
    "print(bankingMissing.info())\n",
    "# Print number of missing values in banking\n",
    "print(bankingMissing.isna().sum())\n",
    "\n",
    "# Print number of missing values in banking\n",
    "print(bankingMissing.isna().sum())\n",
    "\n",
    "# Visualize missingness matrix\n",
    "msno.matrix(bankingMissing)\n",
    "plt.show()"
   ]
  },
  {
   "cell_type": "code",
   "execution_count": 23,
   "id": "a40dff23-fb85-46eb-aae6-564fab2ef267",
   "metadata": {},
   "outputs": [],
   "source": [
    "# Isolate missing and non missing values of inv_amount\n",
    "missing_investors = bankingMissing[bankingMissing[\"inv_amount\"].isna()]\n",
    "investors = bankingMissing[~bankingMissing[\"inv_amount\"].isna()]"
   ]
  },
  {
   "cell_type": "code",
   "execution_count": 24,
   "id": "8bca0929-39b1-4f10-a919-5ba3940f5731",
   "metadata": {},
   "outputs": [
    {
     "name": "stdout",
     "output_type": "stream",
     "text": [
      "       Unnamed: 0        age    acct_amount    inv_amount\n",
      "count   84.000000  84.000000      84.000000     84.000000\n",
      "mean    47.761905  43.559524   75095.273214  44717.885476\n",
      "std     27.724818  10.411244   32414.506022  26031.246094\n",
      "min      0.000000  26.000000   12209.840000   3216.720000\n",
      "25%     24.750000  34.000000   57373.062500  22736.037500\n",
      "50%     48.500000  45.000000   83061.845000  44498.460000\n",
      "75%     71.250000  53.000000   94165.965000  66176.802500\n",
      "max     96.000000  59.000000  250046.760000  93552.690000\n",
      "       Unnamed: 0        age   acct_amount  inv_amount\n",
      "count   13.000000  13.000000     13.000000         0.0\n",
      "mean    49.538462  21.846154  73231.238462         NaN\n",
      "std     31.902496   1.519109  25553.327176         NaN\n",
      "min      4.000000  20.000000  21942.370000         NaN\n",
      "25%     18.000000  21.000000  66947.300000         NaN\n",
      "50%     46.000000  21.000000  86028.480000         NaN\n",
      "75%     82.000000  23.000000  89855.980000         NaN\n",
      "max     94.000000  25.000000  99998.350000         NaN\n"
     ]
    }
   ],
   "source": [
    "print(investors.describe())\n",
    "print(missing_investors.describe())"
   ]
  },
  {
   "cell_type": "code",
   "execution_count": 25,
   "id": "2dad318a-af9d-4025-9637-62890e367022",
   "metadata": {},
   "outputs": [
    {
     "data": {
      "image/png": "[encoded data removed]",
      "text/plain": [
       "<Figure size 1800x720 with 2 Axes>"
      ]
     },
     "metadata": {
      "needs_background": "light"
     },
     "output_type": "display_data"
    }
   ],
   "source": [
    "# Sort banking by age and visualize\n",
    "banking_sorted = bankingMissing.sort_values(by=\"age\")\n",
    "msno.matrix(banking_sorted)\n",
    "plt.show()"
   ]
  },
  {
   "cell_type": "markdown",
   "id": "d57e423b-4bcd-4c06-ac9e-11b2d1889ea4",
   "metadata": {},
   "source": [
    "### Missing pattern"
   ]
  },
  {
   "cell_type": "code",
   "execution_count": 26,
   "id": "f5abc5d9-1fa2-43a2-b707-3e5be4664110",
   "metadata": {},
   "outputs": [
    {
     "name": "stdout",
     "output_type": "stream",
     "text": [
      "Unnamed: 0          0\n",
      "cust_id             0\n",
      "acct_amount         0\n",
      "inv_amount          0\n",
      "account_opened      0\n",
      "last_transaction    0\n",
      "dtype: int64\n"
     ]
    }
   ],
   "source": [
    "bankingMissing=pd.read_csv(\"banking_MissingCustIDAndAccntAmnt.csv\")\n",
    "# Drop missing values of cust_id\n",
    "banking_fullid = bankingMissing.dropna(subset = ['cust_id'])\n",
    "\n",
    "# Compute estimated acct_amount\n",
    "acct_imp = banking_fullid[\"inv_amount\"] * 5\n",
    "\n",
    "# Impute missing acct_amount with corresponding acct_imp\n",
    "banking_imputed = banking_fullid.fillna({'acct_amount':acct_imp})\n",
    "\n",
    "# Print number of missing values\n",
    "print(banking_imputed.isna().sum())"
   ]
  },
  {
   "cell_type": "markdown",
   "id": "67805b6b-5b16-4087-8c6d-4be896822dc7",
   "metadata": {},
   "source": [
    "## Record linkage"
   ]
  },
  {
   "cell_type": "markdown",
   "id": "912b3a3d-08e9-4883-833d-d827583b6753",
   "metadata": {},
   "source": [
    "### Similarity using fuzzywuzzy"
   ]
  },
  {
   "cell_type": "code",
   "execution_count": 27,
   "id": "a0202add-d09c-466d-b4e5-618f2fc51c18",
   "metadata": {},
   "outputs": [
    {
     "name": "stdout",
     "output_type": "stream",
     "text": [
      "Requirement already satisfied: fuzzywuzzy in c:\\programdata\\anaconda3\\lib\\site-packages (0.18.0)Note: you may need to restart the kernel to use updated packages.\n",
      "\n"
     ]
    }
   ],
   "source": [
    "pip install fuzzywuzzy"
   ]
  },
  {
   "cell_type": "code",
   "execution_count": 28,
   "id": "b0937f75-e33a-457d-8c56-5ee68b908bd5",
   "metadata": {},
   "outputs": [
    {
     "name": "stdout",
     "output_type": "stream",
     "text": [
      "   Unnamed: 0     name                      addr         city       phone  \\\n",
      "0           0   kokomo         6333 w. third st.           la  2139330773   \n",
      "1           1   feenix   8358 sunset blvd. west     hollywood  2138486677   \n",
      "2           2  parkway      510 s. arroyo pkwy .     pasadena  8187951001   \n",
      "3           3     r-23          923 e. third st.  los angeles  2136877178   \n",
      "4           4    gumbo         6333 w. third st.           la  2139330358   \n",
      "\n",
      "           type  \n",
      "0      american  \n",
      "1      american  \n",
      "2   californian  \n",
      "3      japanese  \n",
      "4  cajun/creole  \n",
      "<class 'pandas.core.frame.DataFrame'>\n",
      "RangeIndex: 82 entries, 0 to 81\n",
      "Data columns (total 6 columns):\n",
      " #   Column      Non-Null Count  Dtype \n",
      "---  ------      --------------  ----- \n",
      " 0   Unnamed: 0  82 non-null     int64 \n",
      " 1   name        82 non-null     object\n",
      " 2   addr        82 non-null     object\n",
      " 3   city        82 non-null     object\n",
      " 4   phone       82 non-null     int64 \n",
      " 5   type        82 non-null     object\n",
      "dtypes: int64(2), object(4)\n",
      "memory usage: 4.0+ KB\n",
      "None\n",
      "[('asian', 100), ('indonesian', 72), ('italian', 67), ('russian', 67), ('american', 62), ('californian', 54), ('japanese', 54), ('mexican/tex-mex', 54), ('american ( new )', 54), ('mexican', 50), ('cajun/creole', 36), ('middle eastern', 36), ('vietnamese', 36), ('pacific new wave', 36), ('fast food', 36), ('chicken', 33), ('hamburgers', 27), ('hot dogs', 26), ('coffeebar', 26), ('continental', 26), ('steakhouses', 25), ('southern/soul', 22), ('delis', 20), ('eclectic', 20), ('pizza', 20), ('health food', 19), ('diners', 18), ('coffee shops', 18), ('noodle shops', 18), ('french ( new )', 18), ('desserts', 18), ('seafood', 17), ('chinese', 17)]\n",
      "[('american', 100), ('american ( new )', 90), ('mexican', 80), ('mexican/tex-mex', 68), ('asian', 62), ('italian', 53), ('russian', 53), ('middle eastern', 51), ('pacific new wave', 45), ('hamburgers', 44), ('indonesian', 44), ('chicken', 40), ('southern/soul', 39), ('japanese', 38), ('eclectic', 38), ('delis', 36), ('pizza', 36), ('cajun/creole', 34), ('french ( new )', 34), ('vietnamese', 33), ('californian', 32), ('diners', 29), ('desserts', 25), ('coffeebar', 24), ('steakhouses', 21), ('seafood', 13), ('chinese', 13), ('fast food', 12), ('coffee shops', 11), ('noodle shops', 11), ('health food', 11), ('continental', 11), ('hot dogs', 0)]\n",
      "[('italian', 100), ('asian', 67), ('californian', 56), ('continental', 51), ('indonesian', 47), ('russian', 43), ('mexican', 43), ('american', 40), ('japanese', 40), ('mexican/tex-mex', 39), ('american ( new )', 39), ('pacific new wave', 39), ('vietnamese', 35), ('delis', 33), ('pizza', 33), ('diners', 31), ('middle eastern', 30), ('chicken', 29), ('chinese', 29), ('health food', 27), ('southern/soul', 27), ('cajun/creole', 26), ('steakhouses', 26), ('seafood', 14), ('hot dogs', 13), ('noodle shops', 13), ('eclectic', 13), ('french ( new )', 13), ('desserts', 13), ('hamburgers', 12), ('fast food', 12), ('coffeebar', 12), ('coffee shops', 0)]\n"
     ]
    },
    {
     "name": "stderr",
     "output_type": "stream",
     "text": [
      "C:\\ProgramData\\Anaconda3\\lib\\site-packages\\fuzzywuzzy\\fuzz.py:11: UserWarning: Using slow pure-python SequenceMatcher. Install python-Levenshtein to remove this warning\n",
      "  warnings.warn('Using slow pure-python SequenceMatcher. Install python-Levenshtein to remove this warning')\n"
     ]
    }
   ],
   "source": [
    "restaurants=pd.read_csv(\"restaurants_L2_dirty.csv\")\n",
    "print(restaurants.head())\n",
    "print(restaurants.info())\n",
    "# Import process from fuzzywuzzy\n",
    "from fuzzywuzzy import process \n",
    "\n",
    "# Store the unique values of cuisine_type in unique_types\n",
    "unique_types = restaurants[\"type\"].unique()\n",
    "\n",
    "# Calculate similarity of 'asian' to all values of unique_types\n",
    "print(process.extract('asian', unique_types, limit = len(unique_types)))\n",
    "\n",
    "# Calculate similarity of 'american' to all values of unique_types\n",
    "print(process.extract('american', unique_types, limit=len(unique_types)))\n",
    "\n",
    "# Calculate similarity of 'italian' to all values of unique_types\n",
    "print(process.extract('italian',unique_types,limit=len(unique_types)))"
   ]
  },
  {
   "cell_type": "markdown",
   "id": "a19b87be-55b2-4fbb-b473-d3adaf950d63",
   "metadata": {},
   "source": [
    "We have determined that the distance cutoff point for remapping typos of 'american', 'asian', and 'italian' cuisine types stored in the cuisine_type column should be 80."
   ]
  },
  {
   "cell_type": "markdown",
   "id": "8dd32e02-de7f-4764-94fb-b7c4e689bf60",
   "metadata": {},
   "source": [
    "### Remapping categories"
   ]
  },
  {
   "cell_type": "code",
   "execution_count": 29,
   "id": "e5856fca-c9b4-4bb8-a709-2864e3d67743",
   "metadata": {},
   "outputs": [
    {
     "name": "stdout",
     "output_type": "stream",
     "text": [
      "['american' 'californian' 'japanese' 'cajun/creole' 'hot dogs' 'diners'\n",
      " 'delis' 'hamburgers' 'seafood' 'italian' 'coffee shops' 'russian'\n",
      " 'steakhouses' 'mexican/tex-mex' 'noodle shops' 'mexican' 'middle eastern'\n",
      " 'asian' 'vietnamese' 'health food' 'american ( new )' 'pacific new wave'\n",
      " 'indonesian' 'eclectic' 'chicken' 'fast food' 'southern/soul' 'coffeebar'\n",
      " 'continental' 'french ( new )' 'desserts' 'chinese' 'pizza']\n"
     ]
    }
   ],
   "source": [
    "categories=['italian', 'asian', 'american']\n",
    "# Inspect the unique values of the cuisine_type column\n",
    "print(restaurants['type'].unique())"
   ]
  },
  {
   "cell_type": "code",
   "execution_count": 30,
   "id": "23ca9aea-53ab-4db6-bcdc-0f3aea83176f",
   "metadata": {},
   "outputs": [
    {
     "name": "stdout",
     "output_type": "stream",
     "text": [
      "[('italian', 100, 14), ('italian', 100, 21), ('italian', 100, 47), ('italian', 100, 57), ('italian', 100, 73)]\n"
     ]
    }
   ],
   "source": [
    "# Create a list of matches, comparing 'italian' with the cuisine_type column\n",
    "matches = process.extract('italian',restaurants['type'],limit=len(restaurants))\n",
    "\n",
    "# Inspect the first 5 matches\n",
    "print(matches[0:5])"
   ]
  },
  {
   "cell_type": "code",
   "execution_count": 31,
   "id": "5bf235cd-2387-49c0-9e7d-f6fd30176f43",
   "metadata": {},
   "outputs": [],
   "source": [
    "# Iterate through the list of matches to italian\n",
    "for match in matches:\n",
    "  # Check whether the similarity score is greater than or equal to 80\n",
    "  if match[1] >=80:\n",
    "    # Select all rows where the cuisine_type is spelled this way, and set them to the correct cuisine\n",
    "    restaurants.loc[restaurants[\"type\"]==match[0],'type']='italian'"
   ]
  },
  {
   "cell_type": "code",
   "execution_count": 32,
   "id": "200b40fa-709a-43ee-a939-a4801dfed495",
   "metadata": {},
   "outputs": [
    {
     "name": "stdout",
     "output_type": "stream",
     "text": [
      "['american' 'californian' 'japanese' 'cajun/creole' 'hot dogs' 'diners'\n",
      " 'delis' 'hamburgers' 'seafood' 'italian' 'coffee shops' 'russian'\n",
      " 'steakhouses' 'mexican/tex-mex' 'noodle shops' 'middle eastern' 'asian'\n",
      " 'vietnamese' 'health food' 'pacific new wave' 'indonesian' 'eclectic'\n",
      " 'chicken' 'fast food' 'southern/soul' 'coffeebar' 'continental'\n",
      " 'french ( new )' 'desserts' 'chinese' 'pizza']\n"
     ]
    }
   ],
   "source": [
    "# Iterate through categories\n",
    "for cuisine in categories:  \n",
    "  # Create a list of matches, comparing cuisine with the cuisine_type column\n",
    "  matches = process.extract(cuisine, restaurants['type'], limit=len(restaurants.type))\n",
    "\n",
    "  # Iterate through the list of matches\n",
    "  for match in matches:\n",
    "     # Check whether the similarity score is greater than or equal to 80\n",
    "    if match[1] >= 80:\n",
    "      # If it is, select all rows where the cuisine_type is spelled this way, and set them to the correct cuisine\n",
    "      restaurants.loc[restaurants['type'] == match[0]] = cuisine\n",
    "      \n",
    "# Inspect the final result\n",
    "print(restaurants['type'].unique())"
   ]
  },
  {
   "cell_type": "code",
   "execution_count": 33,
   "id": "f687b9f6-b402-4188-8c52-6d37879e40fa",
   "metadata": {},
   "outputs": [
    {
     "name": "stdout",
     "output_type": "stream",
     "text": [
      "  Unnamed: 0      name                  addr         city       phone  \\\n",
      "0   american  american              american     american    american   \n",
      "1   american  american              american     american    american   \n",
      "2          2   parkway  510 s. arroyo pkwy .     pasadena  8187951001   \n",
      "3          3      r-23      923 e. third st.  los angeles  2136877178   \n",
      "4          4     gumbo     6333 w. third st.           la  2139330358   \n",
      "\n",
      "           type  \n",
      "0      american  \n",
      "1      american  \n",
      "2   californian  \n",
      "3      japanese  \n",
      "4  cajun/creole  \n",
      "<class 'pandas.core.frame.DataFrame'>\n",
      "RangeIndex: 82 entries, 0 to 81\n",
      "Data columns (total 6 columns):\n",
      " #   Column      Non-Null Count  Dtype \n",
      "---  ------      --------------  ----- \n",
      " 0   Unnamed: 0  82 non-null     object\n",
      " 1   name        82 non-null     object\n",
      " 2   addr        82 non-null     object\n",
      " 3   city        82 non-null     object\n",
      " 4   phone       82 non-null     object\n",
      " 5   type        82 non-null     object\n",
      "dtypes: object(6)\n",
      "memory usage: 4.0+ KB\n",
      "None\n"
     ]
    }
   ],
   "source": [
    "print(restaurants.head())\n",
    "print(restaurants.info())"
   ]
  },
  {
   "cell_type": "markdown",
   "id": "30878121-34ba-45df-8a59-e4d519174f6d",
   "metadata": {},
   "source": [
    "### Identify pairing in record linkage"
   ]
  },
  {
   "cell_type": "code",
   "execution_count": 36,
   "id": "e211620d-1f72-47bd-9b2a-926ddbccd8f4",
   "metadata": {},
   "outputs": [
    {
     "name": "stdout",
     "output_type": "stream",
     "text": [
      "Requirement already satisfied: recordlinkage in c:\\programdata\\anaconda3\\lib\\site-packages (0.14)Note: you may need to restart the kernel to use updated packages.\n",
      "\n",
      "Requirement already satisfied: jellyfish>=0.5.4 in c:\\programdata\\anaconda3\\lib\\site-packages (from recordlinkage) (0.9.0)\n",
      "Requirement already satisfied: pandas>=0.23 in c:\\programdata\\anaconda3\\lib\\site-packages (from recordlinkage) (1.3.4)\n",
      "Requirement already satisfied: scipy>=1 in c:\\programdata\\anaconda3\\lib\\site-packages (from recordlinkage) (1.7.1)\n",
      "Requirement already satisfied: numpy>=1.13.0 in c:\\programdata\\anaconda3\\lib\\site-packages (from recordlinkage) (1.20.3)\n",
      "Requirement already satisfied: joblib in c:\\programdata\\anaconda3\\lib\\site-packages (from recordlinkage) (1.1.0)\n",
      "Requirement already satisfied: scikit-learn>=0.19.0 in c:\\programdata\\anaconda3\\lib\\site-packages (from recordlinkage) (0.24.2)\n",
      "Requirement already satisfied: python-dateutil>=2.7.3 in c:\\programdata\\anaconda3\\lib\\site-packages (from pandas>=0.23->recordlinkage) (2.8.2)\n",
      "Requirement already satisfied: pytz>=2017.3 in c:\\programdata\\anaconda3\\lib\\site-packages (from pandas>=0.23->recordlinkage) (2021.3)\n",
      "Requirement already satisfied: six>=1.5 in c:\\programdata\\anaconda3\\lib\\site-packages (from python-dateutil>=2.7.3->pandas>=0.23->recordlinkage) (1.16.0)\n",
      "Requirement already satisfied: threadpoolctl>=2.0.0 in c:\\programdata\\anaconda3\\lib\\site-packages (from scikit-learn>=0.19.0->recordlinkage) (2.2.0)\n"
     ]
    }
   ],
   "source": [
    "pip install recordlinkage"
   ]
  },
  {
   "cell_type": "code",
   "execution_count": 38,
   "id": "023fbb07-4cd6-4435-b4e2-042e65b0df82",
   "metadata": {},
   "outputs": [],
   "source": [
    "import recordlinkage\n",
    "restaurants=pd.read_csv(\"restaurantsNew.csv\")\n",
    "restaurants_new=pd.read_csv(\"resturantsNewPairing.csv\")\n",
    "\n",
    "# Create an indexer and object and find possible pairs\n",
    "indexer = recordlinkage.Index()\n",
    "\n",
    "# Block pairing on cuisine_type\n",
    "indexer.block(\"cuisine_type\")\n",
    "\n",
    "# Generate pairs\n",
    "pairs = indexer.index(restaurants, restaurants_new)"
   ]
  },
  {
   "cell_type": "code",
   "execution_count": 39,
   "id": "7842702d-c043-46a0-b8ff-27591baa80f9",
   "metadata": {},
   "outputs": [
    {
     "name": "stdout",
     "output_type": "stream",
     "text": [
      "        city  cuisine_type  name\n",
      "0   0      0             1   0.0\n",
      "    1      0             1   0.0\n",
      "    7      0             1   0.0\n",
      "    12     0             1   0.0\n",
      "    13     0             1   0.0\n",
      "...      ...           ...   ...\n",
      "40  18     0             1   0.0\n",
      "281 18     0             1   0.0\n",
      "288 18     0             1   0.0\n",
      "302 18     0             1   0.0\n",
      "308 18     0             1   0.0\n",
      "\n",
      "[3631 rows x 3 columns]\n"
     ]
    }
   ],
   "source": [
    "# Create a comparison object\n",
    "comp_cl = recordlinkage.Compare()\n",
    "\n",
    "# Find exact matches on city, cuisine_types - \n",
    "comp_cl.exact('city', 'city', label='city')\n",
    "comp_cl.exact('cuisine_type', 'cuisine_type', label='cuisine_type')\n",
    "\n",
    "# Find similar matches of rest_name\n",
    "comp_cl.string('rest_name', 'rest_name', label='name', threshold = 0.8) \n",
    "\n",
    "# Get potential matches and print\n",
    "potential_matches = comp_cl.compute(pairs, restaurants, restaurants_new)\n",
    "print(potential_matches)"
   ]
  },
  {
   "cell_type": "code",
   "execution_count": 40,
   "id": "60b2b667-3555-4f53-a8b5-d347b988f758",
   "metadata": {},
   "outputs": [
    {
     "name": "stdout",
     "output_type": "stream",
     "text": [
      "    Unnamed: 0                  rest_name                  rest_addr  \\\n",
      "0            0  arnie morton's of chicago   435 s. la cienega blv .    \n",
      "1            1         art's delicatessen       12224 ventura blvd.    \n",
      "2            2                  campanile       624 s. la brea ave.    \n",
      "3            3                      fenix    8358 sunset blvd. west    \n",
      "4            4         grill on the alley           9560 dayton way    \n",
      "..         ...                        ...                        ...   \n",
      "76          76                        don        1136 westwood blvd.   \n",
      "77          77                      feast        1949 westwood blvd.   \n",
      "78          78                   mulberry        17040 ventura blvd.   \n",
      "80          80                    jiraffe      502 santa monica blvd   \n",
      "81          81                   martha's  22nd street grill 25 22nd   \n",
      "\n",
      "                 city       phone cuisine_type  \n",
      "0         los angeles  3102461501     american  \n",
      "1         studio city  8187621221     american  \n",
      "2         los angeles  2139381447     american  \n",
      "3           hollywood  2138486677     american  \n",
      "4         los angeles  3102760615     american  \n",
      "..                ...         ...          ...  \n",
      "76           westwood  3102091422      italian  \n",
      "77            west la  3104750400      chinese  \n",
      "78             encino  8189068881        pizza  \n",
      "80       santa monica  3109176671  californian  \n",
      "81  st. hermosa beach  3103767786     american  \n",
      "\n",
      "[396 rows x 6 columns]\n"
     ]
    }
   ],
   "source": [
    "# Isolate potential matches with row sum >=3\n",
    "matches = potential_matches[potential_matches.sum(axis=1) >= 3]\n",
    "\n",
    "# Get values of second column index of matches\n",
    "matching_indices = matches.index.get_level_values(1)\n",
    "\n",
    "# Subset restaurants_new based on non-duplicate values\n",
    "non_dup = restaurants_new[~restaurants_new.index.isin(matching_indices)]\n",
    "\n",
    "# Append non_dup to restaurants\n",
    "full_restaurants = restaurants.append(non_dup)\n",
    "print(full_restaurants)"
   ]
  },
  {
   "cell_type": "code",
   "execution_count": null,
   "id": "8c6400d7-d2e1-4e9b-8431-ab9455125555",
   "metadata": {},
   "outputs": [],
   "source": []
  },
  {
   "cell_type": "code",
   "execution_count": null,
   "id": "e850ea6d-cc0d-48bc-a622-428bba2b0d9e",
   "metadata": {},
   "outputs": [],
   "source": []
  },
  {
   "cell_type": "code",
   "execution_count": null,
   "id": "3ffcac65-96ba-451c-b07d-644c5025cdb1",
   "metadata": {},
   "outputs": [],
   "source": []
  },
  {
   "cell_type": "code",
   "execution_count": null,
   "id": "302f84a3-4ced-4cb6-8832-9463f8d33b97",
   "metadata": {},
   "outputs": [],
   "source": []
  },
  {
   "cell_type": "code",
   "execution_count": null,
   "id": "012add50-a46d-4045-b0c0-d155399fd066",
   "metadata": {},
   "outputs": [],
   "source": []
  },
  {
   "cell_type": "code",
   "execution_count": null,
   "id": "9fbdc7cd-6d33-4c9f-bea5-1805414b5489",
   "metadata": {},
   "outputs": [],
   "source": []
  },
  {
   "cell_type": "code",
   "execution_count": null,
   "id": "b09f47fe-b6f7-4e5c-a44d-c63d0afdaa8e",
   "metadata": {},
   "outputs": [],
   "source": []
  },
  {
   "cell_type": "code",
   "execution_count": null,
   "id": "de522867-6b2b-40c6-9c93-4c755693914b",
   "metadata": {},
   "outputs": [],
   "source": []
  },
  {
   "cell_type": "code",
   "execution_count": null,
   "id": "3983486d-f98b-4887-95b9-d3f360c7594f",
   "metadata": {},
   "outputs": [],
   "source": []
  },
  {
   "cell_type": "code",
   "execution_count": null,
   "id": "7a905341-3d88-4418-a536-80f61b4a1bfa",
   "metadata": {},
   "outputs": [],
   "source": []
  },
  {
   "cell_type": "code",
   "execution_count": null,
   "id": "876e1148-f281-4b53-8701-50d79a26d083",
   "metadata": {},
   "outputs": [],
   "source": []
  },
  {
   "cell_type": "code",
   "execution_count": null,
   "id": "4fa16a04-d3df-4f71-85fc-18f705b799a1",
   "metadata": {},
   "outputs": [],
   "source": []
  },
  {
   "cell_type": "code",
   "execution_count": null,
   "id": "d40c623e-35a5-4d4a-a8ba-a855eaa552a0",
   "metadata": {},
   "outputs": [],
   "source": []
  },
  {
   "cell_type": "code",
   "execution_count": null,
   "id": "cd96ec7f-9ca6-44fb-896b-0a37950a66b7",
   "metadata": {},
   "outputs": [],
   "source": []
  },
  {
   "cell_type": "code",
   "execution_count": null,
   "id": "58cc978a-8580-4fe8-b05e-ab833a15dc53",
   "metadata": {},
   "outputs": [],
   "source": []
  }
 ],
 "metadata": {
  "kernelspec": {
   "display_name": "Python 3 (ipykernel)",
   "language": "python",
   "name": "python3"
  },
  "language_info": {
   "codemirror_mode": {
    "name": "ipython",
    "version": 3
   },
   "file_extension": ".py",
   "mimetype": "text/x-python",
   "name": "python",
   "nbconvert_exporter": "python",
   "pygments_lexer": "ipython3",
   "version": "3.9.7"
  }
 },
 "nbformat": 4,
 "nbformat_minor": 5
}
